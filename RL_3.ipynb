{
 "cells": [
  {
   "cell_type": "code",
   "execution_count": 3,
   "metadata": {
    "collapsed": true
   },
   "outputs": [],
   "source": [
    "import numpy as np\n",
    "import matplotlib.pyplot as plt\n",
    "import pandas as pd"
   ]
  },
  {
   "cell_type": "code",
   "execution_count": 4,
   "metadata": {
    "collapsed": true
   },
   "outputs": [],
   "source": [
    "data=pd.read_csv('Ads_Optimisation.csv')"
   ]
  },
  {
   "cell_type": "code",
   "execution_count": 5,
   "metadata": {
    "collapsed": true
   },
   "outputs": [],
   "source": [
    "import random\n",
    "N=10000\n",
    "d=10\n",
    "ads_selected=[]\n",
    "total_reward=[]\n",
    "for n in range(0,N):\n",
    "  ad=random.randrange(d)\n",
    "  ads_selected.append(ad)\n",
    "  reward=data.values[n,ad]\n",
    "  total_reward=total_reward+reward"
   ]
  },
  {
   "cell_type": "code",
   "execution_count": 6,
   "metadata": {
    "collapsed": false
   },
   "outputs": [
    {
     "data": {
      "text/plain": [
       "6    116\n",
       "1    105\n",
       "5    104\n",
       "9    101\n",
       "2     99\n",
       "8     96\n",
       "3     96\n",
       "4     95\n",
       "7     94\n",
       "0     94\n",
       "dtype: int64"
      ]
     },
     "execution_count": 6,
     "metadata": {},
     "output_type": "execute_result"
    }
   ],
   "source": [
    "pd.Series(ads_selected).head(1000).value_counts(normalize=False)"
   ]
  },
  {
   "cell_type": "code",
   "execution_count": 7,
   "metadata": {
    "collapsed": true
   },
   "outputs": [],
   "source": [
    "#Implementing UCB\n",
    "import math\n",
    "N=10000\n",
    "d=10\n",
    "ads_selected=[]\n",
    "numbers_of_selection=[0]*d\n",
    "sums_of_reward=[0]*d\n",
    "total_reward=0"
   ]
  },
  {
   "cell_type": "code",
   "execution_count": 8,
   "metadata": {
    "collapsed": true
   },
   "outputs": [],
   "source": [
    "for n in range(0,N):\n",
    "  ad=0\n",
    "  max_upper_bound=0\n",
    "  for i in range(0,d):\n",
    "\n",
    "    if (numbers_of_selection[i]>0):\n",
    "      average_reward=sums_of_reward[i]/numbers_of_selection[i]\n",
    "      delta_i=math.sqrt(2*math.log(n+1)/numbers_of_selection[i])\n",
    "      upper_bound=average_reward+delta_i\n",
    "    else:\n",
    "     upper_bound=1e200\n",
    "     if upper_bound>max_upper_bound:\n",
    "       max_upper_bound=upper_bound\n",
    "       ad=i\n",
    "    ads_selected.append(ad)\n",
    "    numbers_of_selection[ad]+=1\n",
    "    reward=data.values[n,ad]\n",
    "    sums_of_reward[ad]+=reward\n",
    "    total_reward+=reward\n",
    "\n"
   ]
  },
  {
   "cell_type": "code",
   "execution_count": 9,
   "metadata": {
    "collapsed": false
   },
   "outputs": [
    {
     "data": {
      "text/plain": [
       "0    0.970000\n",
       "1    0.006000\n",
       "2    0.005333\n",
       "3    0.004667\n",
       "4    0.004000\n",
       "5    0.003333\n",
       "6    0.002667\n",
       "7    0.002000\n",
       "8    0.001333\n",
       "9    0.000667\n",
       "dtype: float64"
      ]
     },
     "execution_count": 9,
     "metadata": {},
     "output_type": "execute_result"
    }
   ],
   "source": [
    "pd.Series(ads_selected).head(1500).value_counts(normalize=True)"
   ]
  },
  {
   "cell_type": "code",
   "execution_count": 10,
   "metadata": {
    "collapsed": false
   },
   "outputs": [
    {
     "data": {
      "text/plain": [
       "<matplotlib.text.Text at 0x28c1135a390>"
      ]
     },
     "execution_count": 10,
     "metadata": {},
     "output_type": "execute_result"
    }
   ],
   "source": [
    "plt.hist(ads_selected)\n",
    "plt.title('Histogram of ads Selected')\n",
    "plt.xlabel('Ads')\n",
    "plt.ylabel('No of times each ad was selected by the algorithm')"
   ]
  },
  {
   "cell_type": "code",
   "execution_count": 11,
   "metadata": {
    "collapsed": false
   },
   "outputs": [
    {
     "data": {
      "image/png": "[encoded data removed]",
      "text/plain": [
       "<matplotlib.figure.Figure at 0x28c10f91e48>"
      ]
     },
     "metadata": {},
     "output_type": "display_data"
    }
   ],
   "source": [
    "plt.show()"
   ]
  },
  {
   "cell_type": "code",
   "execution_count": null,
   "metadata": {
    "collapsed": true
   },
   "outputs": [],
   "source": []
  }
 ],
 "metadata": {
  "kernelspec": {
   "display_name": "Python 3",
   "language": "python",
   "name": "python3"
  }
 },
 "nbformat": 4,
 "nbformat_minor": 2
}

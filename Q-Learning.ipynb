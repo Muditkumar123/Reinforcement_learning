{
 "cells": [
  {
   "cell_type": "code",
   "execution_count": 1,
   "id": "10fe319c",
   "metadata": {},
   "outputs": [],
   "source": [
    "import numpy as np\n",
    "#R matrix\n",
    "R=np.matrix([[-1,-1,-1,-1,0,-1],\n",
    "             [-1,-1,-1,0,-1,100],\n",
    "             [-1,-1,-1,0,-1,-1],\n",
    "             [-1,0,0,-1,0,-1],\n",
    "             [-1,0,0,-1,-1,100],\n",
    "             [-1,0,-1,-1,0,100]])"
   ]
  },
  {
   "cell_type": "code",
   "execution_count": 2,
   "id": "6aae824d",
   "metadata": {},
   "outputs": [
    {
     "data": {
      "text/plain": [
       "matrix([[ -1,  -1,  -1,  -1,   0,  -1],\n",
       "        [ -1,  -1,  -1,   0,  -1, 100],\n",
       "        [ -1,  -1,  -1,   0,  -1,  -1],\n",
       "        [ -1,   0,   0,  -1,   0,  -1],\n",
       "        [ -1,   0,   0,  -1,  -1, 100],\n",
       "        [ -1,   0,  -1,  -1,   0, 100]])"
      ]
     },
     "execution_count": 2,
     "metadata": {},
     "output_type": "execute_result"
    }
   ],
   "source": [
    "R"
   ]
  },
  {
   "cell_type": "code",
   "execution_count": 3,
   "id": "14c809bc",
   "metadata": {},
   "outputs": [],
   "source": [
    "#Q matrix\n",
    "Q=np.matrix(np.zeros([6,6]))"
   ]
  },
  {
   "cell_type": "code",
   "execution_count": 4,
   "id": "25f83520",
   "metadata": {},
   "outputs": [
    {
     "data": {
      "text/plain": [
       "matrix([[0., 0., 0., 0., 0., 0.],\n",
       "        [0., 0., 0., 0., 0., 0.],\n",
       "        [0., 0., 0., 0., 0., 0.],\n",
       "        [0., 0., 0., 0., 0., 0.],\n",
       "        [0., 0., 0., 0., 0., 0.],\n",
       "        [0., 0., 0., 0., 0., 0.]])"
      ]
     },
     "execution_count": 4,
     "metadata": {},
     "output_type": "execute_result"
    }
   ],
   "source": [
    "Q"
   ]
  },
  {
   "cell_type": "code",
   "execution_count": 5,
   "id": "f18db351",
   "metadata": {},
   "outputs": [],
   "source": [
    "gamma=0.8\n",
    "initial_state=1"
   ]
  },
  {
   "cell_type": "code",
   "execution_count": 6,
   "id": "261ca89f",
   "metadata": {},
   "outputs": [],
   "source": [
    "#This function returns all available actions in the state given as an arguement\n",
    "def available_actions(state):\n",
    "    current_state_row=R[state,]\n",
    "    av_act=np.where(current_state_row>=0)[1]\n",
    "    return av_act"
   ]
  },
  {
   "cell_type": "code",
   "execution_count": 7,
   "id": "67dc0193",
   "metadata": {},
   "outputs": [],
   "source": [
    "#get available actions in the current state\n",
    "available_act=available_actions(initial_state)"
   ]
  },
  {
   "cell_type": "code",
   "execution_count": 8,
   "id": "c8b4aefa",
   "metadata": {},
   "outputs": [
    {
     "data": {
      "text/plain": [
       "array([3, 5], dtype=int64)"
      ]
     },
     "execution_count": 8,
     "metadata": {},
     "output_type": "execute_result"
    }
   ],
   "source": [
    "available_act"
   ]
  },
  {
   "cell_type": "code",
   "execution_count": 9,
   "id": "9e106a9f",
   "metadata": {},
   "outputs": [],
   "source": [
    "#This function chooses at random which action to be performed within the range of all available actions\n",
    "def sample_next_action(available_action_range):\n",
    "    next_action=int(np.random.choice(available_act,1))\n",
    "    return next_action"
   ]
  },
  {
   "cell_type": "code",
   "execution_count": 10,
   "id": "5a4e1fdf",
   "metadata": {},
   "outputs": [],
   "source": [
    "#sample next action to be performed\n",
    "action=sample_next_action(available_act)"
   ]
  },
  {
   "cell_type": "code",
   "execution_count": 11,
   "id": "b67d62b6",
   "metadata": {},
   "outputs": [
    {
     "data": {
      "text/plain": [
       "3"
      ]
     },
     "execution_count": 11,
     "metadata": {},
     "output_type": "execute_result"
    }
   ],
   "source": [
    "action"
   ]
  },
  {
   "cell_type": "code",
   "execution_count": 12,
   "id": "cce53bf4",
   "metadata": {},
   "outputs": [],
   "source": [
    "#this function updates the Qmatrix according to the path selected and the Q learning algorithm\n",
    "def update(current_state,action,gamma):\n",
    "    max_index=np.where(Q[action,]==np.max(Q[action,]))[1]\n",
    "    \n",
    "    if max_index.shape[0]>1:\n",
    "        max_index=int(np.random.choice(max_index,size=1))\n",
    "    else:\n",
    "        max_index=int(max_index)\n",
    "    max_value=Q[action,max_index]\n",
    "    \n",
    "    #Q learning formula\n",
    "    Q[current_state,action]=R[current_state,action]+gamma*max_value\n",
    "    \n",
    "#update Q matrix\n",
    "\n",
    "update(initial_state,action,gamma)"
   ]
  },
  {
   "cell_type": "code",
   "execution_count": 13,
   "id": "947235d8",
   "metadata": {},
   "outputs": [
    {
     "data": {
      "text/plain": [
       "matrix([[0., 0., 0., 0., 0., 0.],\n",
       "        [0., 0., 0., 0., 0., 0.],\n",
       "        [0., 0., 0., 0., 0., 0.],\n",
       "        [0., 0., 0., 0., 0., 0.],\n",
       "        [0., 0., 0., 0., 0., 0.],\n",
       "        [0., 0., 0., 0., 0., 0.]])"
      ]
     },
     "execution_count": 13,
     "metadata": {},
     "output_type": "execute_result"
    }
   ],
   "source": [
    "Q"
   ]
  },
  {
   "cell_type": "code",
   "execution_count": 14,
   "id": "e75f3f6c",
   "metadata": {},
   "outputs": [
    {
     "name": "stdout",
     "output_type": "stream",
     "text": [
      "Trained Q matrix:\n",
      "[[  0.     0.     0.    63.64   0.    79.8 ]\n",
      " [  0.     0.     0.    63.84   0.   100.  ]\n",
      " [  0.     0.     0.    63.84   0.    79.8 ]\n",
      " [  0.     0.     0.    63.64   0.    79.8 ]\n",
      " [  0.     0.     0.    63.64   0.   100.  ]\n",
      " [  0.     0.     0.    63.64   0.   100.  ]]\n"
     ]
    }
   ],
   "source": [
    "#Training\n",
    "# Training over 10,000 iterations\n",
    "for i in range(10000):\n",
    "    current_state=np.random.randint(0,int(Q.shape[0]))\n",
    "    availabe_act=available_actions(current_state)\n",
    "    action=sample_next_action(available_act)\n",
    "    update(current_state,action,gamma)\n",
    "    \n",
    "#normalize the trained Q-Matrix\n",
    "print(\"Trained Q matrix:\")\n",
    "print(Q/np.max(Q)*100)\n",
    "# print(Q)"
   ]
  },
  {
   "cell_type": "code",
   "execution_count": 15,
   "id": "7e4437dc",
   "metadata": {},
   "outputs": [
    {
     "name": "stdout",
     "output_type": "stream",
     "text": [
      "Selected path:\n",
      "[1, 5]\n"
     ]
    }
   ],
   "source": [
    "current_state=1\n",
    "steps=[current_state]\n",
    "while current_state!=5:\n",
    "    next_step_index=np.where(Q[current_state,]==np.max(Q[current_state,]))[1]\n",
    "    if next_step_index.shape[0]>1:\n",
    "        next_step_index=int(np.random.choice(next_step_index,size=1))\n",
    "    else:\n",
    "        next_step_index=int(next_step_index)\n",
    "    \n",
    "    steps.append(next_step_index)\n",
    "    current_state=next_step_index\n",
    "    \n",
    "\n",
    "    \n",
    "#Print selected step sequence\n",
    "print(\"Selected path:\")\n",
    "print(steps)    "
   ]
  },
  {
   "cell_type": "code",
   "execution_count": null,
   "id": "781801c0",
   "metadata": {},
   "outputs": [],
   "source": []
  }
 ],
 "metadata": {
  "kernelspec": {
   "display_name": "Python 3 (ipykernel)",
   "language": "python",
   "name": "python3"
  },
  "language_info": {
   "codemirror_mode": {
    "name": "ipython",
    "version": 3
   },
   "file_extension": ".py",
   "mimetype": "text/x-python",
   "name": "python",
   "nbconvert_exporter": "python",
   "pygments_lexer": "ipython3",
   "version": "3.9.12"
  }
 },
 "nbformat": 4,
 "nbformat_minor": 5
}
